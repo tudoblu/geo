{
 "cells": [
  {
   "cell_type": "code",
   "execution_count": 4,
   "metadata": {
    "collapsed": true
   },
   "outputs": [],
   "source": [
    "%config InlineBackend.figure_format = 'svg'\n",
    "%matplotlib inline\n",
    "from IPython.display import Image"
   ]
  },
  {
   "cell_type": "markdown",
   "metadata": {},
   "source": [
    "## Método dos eigenvetores para dados 3D\n",
    "\n",
    "Estatística Bingham\n",
    "\n",
    "Para a orientação de dados em espaço 3D se adota um método de cálculo de dirções médias e testes estatísticos que se baseiam em matrizes ao invés de vetores(estatística Bingham). Vamos usar uma analogia com momento de inércia para explicar alguns pontos.\n",
    "\n",
    "<img src=\"files/Estereograma.png\"/>\n",
    "\n",
    "Imagine cada um dos polos no estereograma tendo peso de 1 g, estando lcalizados na superfície da esfera. Tentar fazer esta esfera girar será mais fácil quando o eixo de rotação escolhido está mais próximo possível da maior concentração de polos (maior massa); o momento de inércia é menor e as massas estão distribuidas com maior simetria em relação ao eixo de rotação. Esta é a distribuição média.\n",
    "\n",
    "A rotação da esfera é mais difícil quando este eixo está o mais afastado possível da maior concentração de polos (massas): o momento de inércia é maior. Este momentum máximo esta sempre a 90°  daquele minimo anterior. Se os pontos estão distribuidos segundo uma guirlanda, este ponto mais afastado corresponde ao polo da guirlanda.\n",
    "\n",
    "Matrix de cossenos diretores:\n",
    "\n",
    "Como estes eixos são obtidos? Primeiro prepara-se uma matriz da soma dos produtos dos cossenos diretores ( a matrix of sums direction cosine products).\n",
    "\n",
    "\\begin{pmatrix}\n",
    "\\Sigma l^2 & \\Sigma lm & \\Sigma ln\\\\\n",
    "\\Sigma lm & \\Sigma m^2 & \\Sigma mn\\\\\n",
    "\\Sigma ln & \\Sigma mn & \\Sigma n^2\n",
    "\\end{pmatrix}\n",
    "\n",
    "Eigenvetores: para a maioria das matrizes é possível definir 3 direções mutuamente perpendiculares, chamadas eigenvetores 1, 2, and 3 com 3 valores correspondentes (eigenvalues), que são propriedades importantes destas matrizes.\n",
    "\n",
    "Ao eigenvetor e1 corresponde o maior momento de inércia, ou seja, é correlacionado ao polo da guirlanda de distribuição dos polos. O eigenvetor e3 corresponde ao menor momento de inércia, sendo correlacionado ao centro do cluster com maior densidade de polos, similar a direção média dos polos. O eigenvetor e2 corresponde a parte mais vazia da guirlanda de distribuição dos polos. \n",
    "\n",
    "\n",
    "Os 3 eigenvalores são inversamente relacionados ao momento de inércia, numerados de forma a que e1<e2<e3.  Dão uma indicação do tipo de concentração na distribuição: se e1=e2<<e3 então a distribuição se dá como um cluster bem definido; se e1<<e2=e3 a distribuição é uma guirlanda bem definida. Para a distribuição da figura anterior, os valores são:\n",
    "\n",
    "e1 = 0.86         e2 = 14.6       e3 = 19.6\n",
    "\n",
    "indicando uma distribuição com características de guirlanda; note que os 3 eigenvalores somados apontam valores maiores que o número total de polos n (em alguns programas de cálculo, os eigenvalores são normalizados - divididos - por n, ou seja, quando somados totalizam 1.0).\n",
    "\n",
    "De modo ideal a estatística segundo o método de eigenvetores é melhor aplicada para um tipo especial de distribuição chamada distribuição Bingham. Distribuição de polos de superfícies dobradas e de marcadores lineares em rochas homogeneamente distorcidas frequentemente se correspondem a este tipo de distribuição, mas redobramentos e casos de recristalização de minerais (para medidads de eixo C) podem produzir distribuições mais complexas em que não se aplica este método.\n"
   ]
  },
  {
   "cell_type": "code",
   "execution_count": null,
   "metadata": {
    "collapsed": true
   },
   "outputs": [],
   "source": []
  }
 ],
 "metadata": {
  "kernelspec": {
   "display_name": "Python 2",
   "language": "python",
   "name": "python2"
  },
  "language_info": {
   "codemirror_mode": {
    "name": "ipython",
    "version": 2
   },
   "file_extension": ".py",
   "mimetype": "text/x-python",
   "name": "python",
   "nbconvert_exporter": "python",
   "pygments_lexer": "ipython2",
   "version": "2.7.10"
  }
 },
 "nbformat": 4,
 "nbformat_minor": 0
}
